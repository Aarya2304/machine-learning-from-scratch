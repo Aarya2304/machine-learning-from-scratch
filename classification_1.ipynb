{
 "cells": [
  {
   "cell_type": "code",
   "execution_count": 2,
   "id": "7c6102ee",
   "metadata": {},
   "outputs": [
    {
     "name": "stdout",
     "output_type": "stream",
     "text": [
      "   Pregnancies  Glucose  BloodPressure  SkinThickness  Insulin   BMI  \\\n",
      "0            6      148             72             35        0  33.6   \n",
      "1            1       85             66             29        0  26.6   \n",
      "2            8      183             64              0        0  23.3   \n",
      "3            1       89             66             23       94  28.1   \n",
      "4            0      137             40             35      168  43.1   \n",
      "\n",
      "   DiabetesPedigreeFunction  Age  Outcome  \n",
      "0                     0.627   50        1  \n",
      "1                     0.351   31        0  \n",
      "2                     0.672   32        1  \n",
      "3                     0.167   21        0  \n",
      "4                     2.288   33        1  \n"
     ]
    }
   ],
   "source": [
    "import pandas as pd\n",
    "import numpy as np\n",
    "import matplotlib.pyplot as plt\n",
    "import seaborn as sns\n",
    "\n",
    "df = pd.read_csv(r\"C:\\Users\\Aarya\\ML\\diabetes.csv\")\n",
    "\n",
    "print(df.head())"
   ]
  },
  {
   "cell_type": "code",
   "execution_count": 3,
   "id": "8937c711",
   "metadata": {},
   "outputs": [
    {
     "name": "stdout",
     "output_type": "stream",
     "text": [
      "(768, 9)\n"
     ]
    }
   ],
   "source": [
    "print(df.shape)"
   ]
  },
  {
   "cell_type": "code",
   "execution_count": 32,
   "id": "43b28e75",
   "metadata": {},
   "outputs": [
    {
     "name": "stdout",
     "output_type": "stream",
     "text": [
      "Pregnancies                 0\n",
      "Glucose                     0\n",
      "BloodPressure               0\n",
      "SkinThickness               0\n",
      "Insulin                     0\n",
      "BMI                         0\n",
      "DiabetesPedigreeFunction    0\n",
      "Age                         0\n",
      "Outcome                     0\n",
      "dtype: int64\n"
     ]
    }
   ],
   "source": [
    "print(df.isnull().sum())"
   ]
  },
  {
   "cell_type": "code",
   "execution_count": 4,
   "id": "44db8af8",
   "metadata": {},
   "outputs": [],
   "source": [
    "X = df[['Pregnancies', 'Glucose', 'BloodPressure', 'SkinThickness', 'Insulin', 'BMI', 'DiabetesPedigreeFunction', 'Age']].values\n",
    "y = df['Outcome'].values.reshape(-1,1)\n",
    "\n",
    "X_mean = np.mean(X, axis=0)\n",
    "X_std = np.std(X, axis=0)\n",
    "X = (X - X_mean) / X_std"
   ]
  },
  {
   "cell_type": "code",
   "execution_count": 5,
   "id": "09afa5f3",
   "metadata": {},
   "outputs": [],
   "source": [
    "from sklearn.linear_model import LogisticRegression\n",
    "from sklearn.metrics import accuracy_score\n",
    "\n",
    "model1 = LogisticRegression()\n",
    "model1.fit(X, y.flatten())\n",
    "y_pred1 = model1.predict(X)"
   ]
  },
  {
   "cell_type": "code",
   "execution_count": 6,
   "id": "5c046c4b",
   "metadata": {},
   "outputs": [
    {
     "name": "stdout",
     "output_type": "stream",
     "text": [
      "Predicted value: 1\n"
     ]
    }
   ],
   "source": [
    "print(f\"Predicted value: {y_pred1[0]}\")"
   ]
  },
  {
   "cell_type": "code",
   "execution_count": 7,
   "id": "a124c74e",
   "metadata": {},
   "outputs": [
    {
     "name": "stdout",
     "output_type": "stream",
     "text": [
      "Accuracy: 0.7839\n"
     ]
    }
   ],
   "source": [
    "print(f\"Accuracy: {accuracy_score(y, y_pred1):.4f}\")"
   ]
  },
  {
   "cell_type": "code",
   "execution_count": 33,
   "id": "c7495d7e",
   "metadata": {},
   "outputs": [
    {
     "name": "stdout",
     "output_type": "stream",
     "text": [
      "Predicted value: 0\n",
      "Accuracy: 0.7893\n"
     ]
    }
   ],
   "source": [
    "from sklearn.model_selection import train_test_split\n",
    "X_train, X_test, y_train, y_test = train_test_split(X, y, test_size = 0.512, random_state=42)\n",
    "\n",
    "model2 = LogisticRegression()\n",
    "model2.fit(X_train, y_train.flatten())\n",
    "y_pred2 = model2.predict(X_test)\n",
    "\n",
    "print(f\"Predicted value: {y_pred2[0]}\")\n",
    "print(f\"Accuracy: {accuracy_score(y_test, y_pred2):.4f}\")"
   ]
  },
  {
   "cell_type": "code",
   "execution_count": 56,
   "id": "6987081e",
   "metadata": {},
   "outputs": [
    {
     "name": "stdout",
     "output_type": "stream",
     "text": [
      "Predicted value: 1\n",
      "Accuracy: 0.8052\n"
     ]
    }
   ],
   "source": [
    "from sklearn.tree import DecisionTreeClassifier\n",
    "X_train, X_test, y_train, y_test = train_test_split(X, y, test_size = 0.1, random_state=42)\n",
    "model3 = DecisionTreeClassifier()\n",
    "model3.fit(X_train, y_train.flatten())\n",
    "y_pred3 = model3.predict(X_test)\n",
    "\n",
    "print(f\"Predicted value: {y_pred3[0]}\")\n",
    "print(f\"Accuracy: {accuracy_score(y_test, y_pred3):.4f}\")"
   ]
  },
  {
   "cell_type": "code",
   "execution_count": 70,
   "id": "63b656c3",
   "metadata": {},
   "outputs": [
    {
     "name": "stdout",
     "output_type": "stream",
     "text": [
      "Predicted value: 0\n",
      "Accuracy: 0.7766\n"
     ]
    }
   ],
   "source": [
    "from sklearn.ensemble import RandomForestClassifier\n",
    "X_train, X_test, y_train, y_test = train_test_split(X, y, test_size = 0.6, random_state=42)\n",
    "\n",
    "model4 = RandomForestClassifier(n_estimators=100, random_state=42)\n",
    "model4.fit(X_train, y_train.flatten())\n",
    "y_pred4 = model4.predict(X_test)\n",
    "\n",
    "print(f\"Predicted value: {y_pred4[0]}\")\n",
    "print(f\"Accuracy: {accuracy_score(y_test, y_pred4):.4f}\")"
   ]
  },
  {
   "cell_type": "code",
   "execution_count": 76,
   "id": "f1e4d849",
   "metadata": {},
   "outputs": [
    {
     "name": "stdout",
     "output_type": "stream",
     "text": [
      "Predicted value of linear kernel: 0\n",
      "Accuracy: 0.7809\n",
      "Predicted value of rbf kernel: 0\n",
      "Accuracy: 0.7744\n"
     ]
    }
   ],
   "source": [
    "from sklearn.svm import SVC\n",
    "X_train, X_test, y_train, y_test = train_test_split(X, y, test_size = 0.6, random_state=42)\n",
    "\n",
    "model5 = SVC(kernel='linear', random_state=42)\n",
    "model5.fit(X_train, y_train.flatten())\n",
    "y_pred5 = model5.predict(X_test)\n",
    "\n",
    "model6 = SVC(kernel='rbf', random_state=42)\n",
    "model6.fit(X_train, y_train.flatten())\n",
    "y_pred6 = model6.predict(X_test)\n",
    "\n",
    "print(f\"Predicted value of linear kernel: {y_pred5[0]}\")\n",
    "print(f\"Accuracy: {accuracy_score(y_test, y_pred5):.4f}\")\n",
    "\n",
    "print(f\"Predicted value of rbf kernel: {y_pred6[0]}\")\n",
    "print(f\"Accuracy: {accuracy_score(y_test, y_pred6):.4f}\")"
   ]
  },
  {
   "cell_type": "code",
   "execution_count": null,
   "id": "a738dfe1",
   "metadata": {},
   "outputs": [],
   "source": []
  }
 ],
 "metadata": {
  "kernelspec": {
   "display_name": "Python 3",
   "language": "python",
   "name": "python3"
  },
  "language_info": {
   "codemirror_mode": {
    "name": "ipython",
    "version": 3
   },
   "file_extension": ".py",
   "mimetype": "text/x-python",
   "name": "python",
   "nbconvert_exporter": "python",
   "pygments_lexer": "ipython3",
   "version": "3.11.9"
  }
 },
 "nbformat": 4,
 "nbformat_minor": 5
}
