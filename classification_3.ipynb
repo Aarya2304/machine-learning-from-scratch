{
 "cells": [
  {
   "cell_type": "code",
   "execution_count": 16,
   "id": "ede92335",
   "metadata": {},
   "outputs": [],
   "source": [
    "import pandas as pd\n",
    "import numpy as np\n",
    "import warnings\n",
    "warnings.filterwarnings('ignore')"
   ]
  },
  {
   "cell_type": "code",
   "execution_count": 17,
   "id": "a5af96f3",
   "metadata": {},
   "outputs": [
    {
     "data": {
      "text/html": [
       "<div>\n",
       "<style scoped>\n",
       "    .dataframe tbody tr th:only-of-type {\n",
       "        vertical-align: middle;\n",
       "    }\n",
       "\n",
       "    .dataframe tbody tr th {\n",
       "        vertical-align: top;\n",
       "    }\n",
       "\n",
       "    .dataframe thead th {\n",
       "        text-align: right;\n",
       "    }\n",
       "</style>\n",
       "<table border=\"1\" class=\"dataframe\">\n",
       "  <thead>\n",
       "    <tr style=\"text-align: right;\">\n",
       "      <th></th>\n",
       "      <th>email</th>\n",
       "      <th>label</th>\n",
       "    </tr>\n",
       "  </thead>\n",
       "  <tbody>\n",
       "    <tr>\n",
       "      <th>0</th>\n",
       "      <td>date wed NUMBER aug NUMBER NUMBER NUMBER NUMB...</td>\n",
       "      <td>0</td>\n",
       "    </tr>\n",
       "    <tr>\n",
       "      <th>1</th>\n",
       "      <td>martin a posted tassos papadopoulos the greek ...</td>\n",
       "      <td>0</td>\n",
       "    </tr>\n",
       "    <tr>\n",
       "      <th>2</th>\n",
       "      <td>man threatens explosion in moscow thursday aug...</td>\n",
       "      <td>0</td>\n",
       "    </tr>\n",
       "    <tr>\n",
       "      <th>3</th>\n",
       "      <td>klez the virus that won t die already the most...</td>\n",
       "      <td>0</td>\n",
       "    </tr>\n",
       "    <tr>\n",
       "      <th>4</th>\n",
       "      <td>in adding cream to spaghetti carbonara which ...</td>\n",
       "      <td>0</td>\n",
       "    </tr>\n",
       "  </tbody>\n",
       "</table>\n",
       "</div>"
      ],
      "text/plain": [
       "                                               email  label\n",
       "0   date wed NUMBER aug NUMBER NUMBER NUMBER NUMB...      0\n",
       "1  martin a posted tassos papadopoulos the greek ...      0\n",
       "2  man threatens explosion in moscow thursday aug...      0\n",
       "3  klez the virus that won t die already the most...      0\n",
       "4   in adding cream to spaghetti carbonara which ...      0"
      ]
     },
     "execution_count": 17,
     "metadata": {},
     "output_type": "execute_result"
    }
   ],
   "source": [
    "df = pd.read_csv(r\"C:\\Users\\Aarya\\Downloads\\spam_or_not_spam.csv\\spam_or_not_spam.csv\")\n",
    "\n",
    "df.head()"
   ]
  },
  {
   "cell_type": "code",
   "execution_count": 3,
   "id": "782cfd19",
   "metadata": {},
   "outputs": [
    {
     "name": "stdout",
     "output_type": "stream",
     "text": [
      "<class 'pandas.core.frame.DataFrame'>\n",
      "RangeIndex: 3000 entries, 0 to 2999\n",
      "Data columns (total 2 columns):\n",
      " #   Column  Non-Null Count  Dtype \n",
      "---  ------  --------------  ----- \n",
      " 0   email   2999 non-null   object\n",
      " 1   label   3000 non-null   int64 \n",
      "dtypes: int64(1), object(1)\n",
      "memory usage: 47.0+ KB\n"
     ]
    }
   ],
   "source": [
    "df.info()"
   ]
  },
  {
   "cell_type": "code",
   "execution_count": 18,
   "id": "b1386e18",
   "metadata": {},
   "outputs": [
    {
     "data": {
      "text/plain": [
       "(3000, 2)"
      ]
     },
     "execution_count": 18,
     "metadata": {},
     "output_type": "execute_result"
    }
   ],
   "source": [
    "df.shape"
   ]
  },
  {
   "cell_type": "code",
   "execution_count": 19,
   "id": "e3b26da3",
   "metadata": {},
   "outputs": [
    {
     "name": "stdout",
     "output_type": "stream",
     "text": [
      "label\n",
      "0    2500\n",
      "1     500\n",
      "Name: count, dtype: int64\n"
     ]
    },
    {
     "data": {
      "image/png": "[encoded data removed]",
      "text/plain": [
       "<Figure size 640x480 with 1 Axes>"
      ]
     },
     "metadata": {},
     "output_type": "display_data"
    }
   ],
   "source": [
    "import matplotlib.pyplot as plt\n",
    "import seaborn as sns\n",
    "print(df['label'].value_counts())\n",
    "\n",
    "sns.countplot(x='label',data=df)\n",
    "plt.title('Count of Emails by Label')\n",
    "plt.xlabel('Label')\n",
    "plt.ylabel('Count')\n",
    "plt.show()"
   ]
  },
  {
   "cell_type": "code",
   "execution_count": 6,
   "id": "f441195b",
   "metadata": {},
   "outputs": [
    {
     "data": {
      "text/plain": [
       "<bound method NDFrame.head of 0       0\n",
       "1       0\n",
       "2       0\n",
       "3       0\n",
       "4       0\n",
       "       ..\n",
       "2995    1\n",
       "2996    1\n",
       "2997    1\n",
       "2998    1\n",
       "2999    1\n",
       "Name: label, Length: 3000, dtype: int64>"
      ]
     },
     "execution_count": 6,
     "metadata": {},
     "output_type": "execute_result"
    }
   ],
   "source": [
    "df['label'].head"
   ]
  },
  {
   "cell_type": "code",
   "execution_count": 12,
   "id": "3ad28cde",
   "metadata": {},
   "outputs": [
    {
     "data": {
      "text/plain": [
       "np.int64(3000)"
      ]
     },
     "execution_count": 12,
     "metadata": {},
     "output_type": "execute_result"
    }
   ],
   "source": [
    "df['label'].notnull().sum()"
   ]
  },
  {
   "cell_type": "code",
   "execution_count": 32,
   "id": "218d30b5",
   "metadata": {},
   "outputs": [],
   "source": [
    "\n",
    "X = df['email'].fillna('')\n",
    "Y = df['label']\n",
    "\n",
    "from sklearn.model_selection import train_test_split\n",
    "X_train, X_test, Y_train, Y_test = train_test_split(X, Y, test_size=0.2, random_state=42)\n",
    "\n",
    "from sklearn.feature_extraction.text import TfidfVectorizer\n",
    "from sklearn.linear_model import LogisticRegression\n",
    "from sklearn.naive_bayes import MultinomialNB\n",
    "from sklearn.ensemble import RandomForestClassifier, GradientBoostingClassifier\n",
    "from sklearn.neighbors import KNeighborsClassifier\n",
    "from sklearn.metrics import accuracy_score\n",
    "\n",
    "vectorizer = TfidfVectorizer()\n",
    "X_train_vec = vectorizer.fit_transform(X_train)\n",
    "X_test_vec = vectorizer.transform(X_test)\n",
    "\n",
    "models = {\n",
    "    \"Logistic Regression\": LogisticRegression(max_iter=1000),\n",
    "    \"Multinomial NB\": MultinomialNB(),\n",
    "    \"Random Forest\": RandomForestClassifier(),\n",
    "    \"Gradient Boosting\": GradientBoostingClassifier(),\n",
    "    \"KNN\": KNeighborsClassifier(n_neighbors=5)\n",
    "    }"
   ]
  },
  {
   "cell_type": "code",
   "execution_count": 33,
   "id": "d8398e4c",
   "metadata": {},
   "outputs": [],
   "source": [
    "from sklearn.metrics import classification_report, confusion_matrix\n",
    "\n",
    "\n",
    "def evaluate_models(models, X_train_vec, Y_train, X_test_vec, Y_test):\n",
    "    results = []\n",
    "\n",
    "    for name, model in models.items():\n",
    "        print(f\"Training: {name}\")\n",
    "        model.fit(X_train_vec, Y_train)\n",
    "        preds = model.predict(X_test_vec)\n",
    "        acc = accuracy_score(Y_test, preds)\n",
    "\n",
    "        print(f\"Accuracy: {acc:.4f}\")\n",
    "        print(classification_report(Y_test, preds))\n",
    "        print(confusion_matrix(Y_test, preds))\n",
    "\n",
    "        results.append({\n",
    "            \"Model\": name,\n",
    "            \"Accuracy\": acc\n",
    "        })\n",
    "\n",
    "    return pd.DataFrame(results).sort_values(by=\"Accuracy\", ascending=False)"
   ]
  },
  {
   "cell_type": "code",
   "execution_count": 34,
   "id": "c8effa1d",
   "metadata": {},
   "outputs": [
    {
     "name": "stdout",
     "output_type": "stream",
     "text": [
      "Training: Logistic Regression\n",
      "Accuracy: 0.9650\n",
      "              precision    recall  f1-score   support\n",
      "\n",
      "           0       0.96      1.00      0.98       505\n",
      "           1       1.00      0.78      0.88        95\n",
      "\n",
      "    accuracy                           0.96       600\n",
      "   macro avg       0.98      0.89      0.93       600\n",
      "weighted avg       0.97      0.96      0.96       600\n",
      "\n",
      "[[505   0]\n",
      " [ 21  74]]\n",
      "Training: Multinomial NB\n",
      "Accuracy: 0.8717\n",
      "              precision    recall  f1-score   support\n",
      "\n",
      "           0       0.87      1.00      0.93       505\n",
      "           1       1.00      0.19      0.32        95\n",
      "\n",
      "    accuracy                           0.87       600\n",
      "   macro avg       0.93      0.59      0.62       600\n",
      "weighted avg       0.89      0.87      0.83       600\n",
      "\n",
      "[[505   0]\n",
      " [ 77  18]]\n",
      "Training: Random Forest\n",
      "Accuracy: 0.9800\n",
      "              precision    recall  f1-score   support\n",
      "\n",
      "           0       0.98      1.00      0.99       505\n",
      "           1       1.00      0.87      0.93        95\n",
      "\n",
      "    accuracy                           0.98       600\n",
      "   macro avg       0.99      0.94      0.96       600\n",
      "weighted avg       0.98      0.98      0.98       600\n",
      "\n",
      "[[505   0]\n",
      " [ 12  83]]\n",
      "Training: Gradient Boosting\n",
      "Accuracy: 0.9867\n",
      "              precision    recall  f1-score   support\n",
      "\n",
      "           0       0.99      1.00      0.99       505\n",
      "           1       0.99      0.93      0.96        95\n",
      "\n",
      "    accuracy                           0.99       600\n",
      "   macro avg       0.99      0.96      0.97       600\n",
      "weighted avg       0.99      0.99      0.99       600\n",
      "\n",
      "[[504   1]\n",
      " [  7  88]]\n",
      "Training: KNN\n",
      "Accuracy: 0.3167\n",
      "              precision    recall  f1-score   support\n",
      "\n",
      "           0       0.98      0.19      0.32       505\n",
      "           1       0.19      0.98      0.31        95\n",
      "\n",
      "    accuracy                           0.32       600\n",
      "   macro avg       0.58      0.59      0.32       600\n",
      "weighted avg       0.85      0.32      0.32       600\n",
      "\n",
      "[[ 97 408]\n",
      " [  2  93]]\n",
      "                 Model  Accuracy\n",
      "3    Gradient Boosting  0.986667\n",
      "2        Random Forest  0.980000\n",
      "0  Logistic Regression  0.965000\n",
      "1       Multinomial NB  0.871667\n",
      "4                  KNN  0.316667\n"
     ]
    }
   ],
   "source": [
    "summary = evaluate_models(models, X_train_vec, Y_train, X_test_vec, Y_test)\n",
    "print(summary)"
   ]
  },
  {
   "cell_type": "code",
   "execution_count": 31,
   "id": "61e6a4c7",
   "metadata": {},
   "outputs": [
    {
     "name": "stdout",
     "output_type": "stream",
     "text": [
      "=== IMPROVING MULTINOMIAL NB PERFORMANCE ===\n",
      "\n",
      "Original features: 28670\n",
      "Improved features: 5000\n",
      "\n",
      "IMPROVED MULTINOMIAL NB RESULTS:\n",
      "Accuracy: 0.9744\n",
      "              precision    recall  f1-score   support\n",
      "\n",
      "           0       0.98      0.99      0.98       745\n",
      "           1       0.96      0.88      0.92       155\n",
      "\n",
      "    accuracy                           0.97       900\n",
      "   macro avg       0.97      0.94      0.95       900\n",
      "weighted avg       0.97      0.97      0.97       900\n",
      "\n",
      "Confusion Matrix:\n",
      "[[740   5]\n",
      " [ 18 137]]\n",
      "Original features: 28670\n",
      "Improved features: 5000\n",
      "\n",
      "IMPROVED MULTINOMIAL NB RESULTS:\n",
      "Accuracy: 0.9744\n",
      "              precision    recall  f1-score   support\n",
      "\n",
      "           0       0.98      0.99      0.98       745\n",
      "           1       0.96      0.88      0.92       155\n",
      "\n",
      "    accuracy                           0.97       900\n",
      "   macro avg       0.97      0.94      0.95       900\n",
      "weighted avg       0.97      0.97      0.97       900\n",
      "\n",
      "Confusion Matrix:\n",
      "[[740   5]\n",
      " [ 18 137]]\n"
     ]
    }
   ],
   "source": [
    "from sklearn.feature_extraction.text import TfidfVectorizer\n",
    "from sklearn.utils.class_weight import compute_sample_weight\n",
    "from sklearn.naive_bayes import MultinomialNB\n",
    "\n",
    "print(\"=== IMPROVING MULTINOMIAL NB PERFORMANCE ===\\n\")\n",
    "\n",
    "vectorizer_improved = TfidfVectorizer(\n",
    "    max_features=5000,     \n",
    "    min_df=2,                \n",
    "    max_df=0.95,            \n",
    "    ngram_range=(1, 2),    \n",
    "    stop_words='english',   \n",
    "    sublinear_tf=True       \n",
    ")\n",
    "\n",
    "X_train_improved = vectorizer_improved.fit_transform(X_train)\n",
    "X_test_improved = vectorizer_improved.transform(X_test)\n",
    "\n",
    "print(f\"Original features: {X_train_vec.shape[1]}\")\n",
    "print(f\"Improved features: {X_train_improved.shape[1]}\")\n",
    "\n",
    "nb_improved = MultinomialNB(alpha=1.0)  \n",
    "nb_improved.fit(X_train_improved, Y_train)\n",
    "\n",
    "preds_improved = nb_improved.predict(X_test_improved)\n",
    "acc_improved = accuracy_score(Y_test, preds_improved)\n",
    "\n",
    "print(f\"\\nIMPROVED MULTINOMIAL NB RESULTS:\")\n",
    "print(f\"Accuracy: {acc_improved:.4f}\")\n",
    "print(classification_report(Y_test, preds_improved))\n",
    "print(\"Confusion Matrix:\")\n",
    "print(confusion_matrix(Y_test, preds_improved))"
   ]
  },
  {
   "cell_type": "code",
   "execution_count": 27,
   "id": "4e623aa1",
   "metadata": {},
   "outputs": [
    {
     "name": "stdout",
     "output_type": "stream",
     "text": [
      "=== FINAL COMPARISON ===\n",
      "\n",
      "                  Model  Accuracy\n",
      "      Gradient Boosting    0.9833\n",
      "          Random Forest    0.9750\n",
      "Improved Multinomial NB    0.9750\n",
      "    Logistic Regression    0.9650\n",
      "Original Multinomial NB    0.8717\n",
      "                    KNN    0.3167\n"
     ]
    }
   ],
   "source": [
    "print(\"=== FINAL COMPARISON ===\\n\")\n",
    "\n",
    "results_comparison = pd.DataFrame({\n",
    "    'Model': ['Gradient Boosting', 'Random Forest', 'Improved Multinomial NB', \n",
    "              'Logistic Regression', 'Original Multinomial NB', 'KNN'],\n",
    "    'Accuracy': [0.9833, 0.9750, 0.9750, 0.9650, 0.8717, 0.3167],\n",
    "})\n",
    "\n",
    "print(results_comparison.to_string(index=False))\n"
   ]
  },
  {
   "cell_type": "code",
   "execution_count": 35,
   "id": "5bfcd678",
   "metadata": {},
   "outputs": [
    {
     "name": "stdout",
     "output_type": "stream",
     "text": [
      "=== WHY KNN ACCURACY IS SO LOW (31.7%) ===\n",
      "\n",
      "1. THE CURSE OF DIMENSIONALITY:\n",
      "   - Original feature space: 30330 dimensions\n",
      "   - Number of training samples: 2400\n",
      "   - Ratio: 12.6 features per sample!\n",
      "   - In high dimensions, all points become equidistant\n",
      "\n",
      "2. SPARSITY PROBLEM:\n",
      "   - Data sparsity: 0.9963 (99.9% of values are zero!)\n",
      "   - Most documents share very few words\n",
      "   - Distance calculations become meaningless\n",
      "\n",
      "3. DEMONSTRATION - Distance Analysis:\n",
      "\n",
      "Euclidean distances between first 5 training samples:\n",
      "[[0.         1.41421356 1.40588923 1.40482465 1.40815932]\n",
      " [1.41421356 0.         1.38872204 1.38277836 1.37899005]\n",
      " [1.40588923 1.38872204 0.         1.38052246 1.38567402]\n",
      " [1.40482465 1.38277836 1.38052246 0.         1.38409456]\n",
      " [1.40815932 1.37899005 1.38567402 1.38409456 0.        ]]\n",
      "\n",
      "Notice how similar all distances are! This makes KNN's job impossible.\n",
      "\n",
      "4. CLASS DISTRIBUTION IMPACT:\n",
      "   - Ham emails: 1995 (83.1%)\n",
      "   - Spam emails: 405 (16.9%)\n",
      "   - With poor distance metrics, KNN defaults to majority class\n"
     ]
    }
   ],
   "source": [
    "# Deep Dive: Why KNN Fails Miserably on Text Data\n",
    "\n",
    "print(\"=== WHY KNN ACCURACY IS SO LOW (31.7%) ===\\n\")\n",
    "\n",
    "print(\"1. THE CURSE OF DIMENSIONALITY:\")\n",
    "print(f\"   - Original feature space: {X_train_vec.shape[1]} dimensions\")\n",
    "print(f\"   - Number of training samples: {X_train_vec.shape[0]}\")\n",
    "print(f\"   - Ratio: {X_train_vec.shape[1]/X_train_vec.shape[0]:.1f} features per sample!\")\n",
    "print(\"   - In high dimensions, all points become equidistant\")\n",
    "\n",
    "print(\"\\n2. SPARSITY PROBLEM:\")\n",
    "# Calculate sparsity\n",
    "sparsity = 1 - (X_train_vec.nnz / (X_train_vec.shape[0] * X_train_vec.shape[1]))\n",
    "print(f\"   - Data sparsity: {sparsity:.4f} (99.9% of values are zero!)\")\n",
    "print(\"   - Most documents share very few words\")\n",
    "print(\"   - Distance calculations become meaningless\")\n",
    "\n",
    "print(\"\\n3. DEMONSTRATION - Distance Analysis:\")\n",
    "from sklearn.metrics.pairwise import cosine_distances, euclidean_distances\n",
    "import numpy as np\n",
    "\n",
    "# Calculate distances between first few samples\n",
    "sample_indices = [0, 1, 2, 3, 4]  # First 5 samples\n",
    "sample_data = X_train_vec[sample_indices].toarray()\n",
    "\n",
    "print(\"\\nEuclidean distances between first 5 training samples:\")\n",
    "euclidean_dist = euclidean_distances(sample_data)\n",
    "print(euclidean_dist)\n",
    "\n",
    "print(\"\\nNotice how similar all distances are! This makes KNN's job impossible.\")\n",
    "\n",
    "print(\"\\n4. CLASS DISTRIBUTION IMPACT:\")\n",
    "print(f\"   - Ham emails: {(Y_train == 0).sum()} ({(Y_train == 0).mean():.1%})\")\n",
    "print(f\"   - Spam emails: {(Y_train == 1).sum()} ({(Y_train == 1).mean():.1%})\")\n",
    "print(\"   - With poor distance metrics, KNN defaults to majority class\")"
   ]
  },
  {
   "cell_type": "code",
   "execution_count": 38,
   "id": "e438c6e0",
   "metadata": {},
   "outputs": [
    {
     "name": "stdout",
     "output_type": "stream",
     "text": [
      "=== WHY KNN ACCURACY IS TERRIBLE (31.7%) ===\n",
      "\n",
      "PROBLEM #1: THE CURSE OF DIMENSIONALITY\n",
      "- Your text data has 30,330 features (words)\n",
      "- Only 2,400 training samples\n",
      "- Ratio: 12.6 features per sample!\n",
      "- In such high dimensions, ALL points become equally distant\n",
      "- KNN can't tell which neighbors are actually 'close'\n",
      "\n",
      "PROBLEM #2: EXTREME SPARSITY\n",
      "- Data sparsity: 0.9963 (99.6% of values are zero!)\n",
      "- Most emails share very few words\n",
      "- Distance becomes meaningless when everything is mostly zeros\n",
      "\n",
      "PROBLEM #3: CLASS IMBALANCE + POOR DISTANCES\n",
      "- Ham: 1995 samples (83.1%)\n",
      "- Spam: 405 samples (16.9%)\n",
      "- When distances are meaningless, KNN just picks majority class\n",
      "- That's why it gets ~83% accuracy (close to majority class %)\n",
      "\n",
      "PROBLEM #4: DEMONSTRATION\n",
      "Let's look at what 'similarity' means in this space:\n",
      "Email 1 has 5 non-zero features out of 30330\n",
      "Email 2 has 98 non-zero features out of 30330\n",
      "Email 3 has 126 non-zero features out of 30330\n",
      "Shared words between Email 1 & 2: 0\n",
      "Shared words between Email 1 & 3: 1\n",
      "→ Very little word overlap = poor similarity measures!\n",
      "\n",
      "=== WHY OTHER ALGORITHMS WORK BETTER ===\n",
      "✓ Random Forest: Handles high dimensions & feature interactions\n",
      "✓ Multinomial NB: Designed for text, handles sparsity well\n",
      "✓ Logistic Regression: Linear model good for sparse features\n",
      "✓ Gradient Boosting: Ensemble method, robust to noise\n",
      "✗ KNN: Relies on distance, breaks down in high dimensions\n",
      "\n",
      "=== FINAL VERDICT ===\n",
      "KNN is fundamentally unsuited for text classification because:\n",
      "1. Text data is high-dimensional (30k+ features)\n",
      "2. Text data is extremely sparse (99%+ zeros)\n",
      "3. Distance metrics become meaningless\n",
      "4. 'Nearest neighbors' become random in high dimensions\n",
      "\n",
      "Result: KNN = 31.7% vs Random Forest = 97.5%\n",
      "That's a 3x performance difference!\n"
     ]
    }
   ],
   "source": [
    "# Why KNN Accuracy is So Low - Simple Explanation\n",
    "\n",
    "print(\"=== WHY KNN ACCURACY IS TERRIBLE (31.7%) ===\\n\")\n",
    "\n",
    "print(\"PROBLEM #1: THE CURSE OF DIMENSIONALITY\")\n",
    "print(\"- Your text data has 30,330 features (words)\")\n",
    "print(\"- Only 2,400 training samples\")\n",
    "print(\"- Ratio: 12.6 features per sample!\")\n",
    "print(\"- In such high dimensions, ALL points become equally distant\")\n",
    "print(\"- KNN can't tell which neighbors are actually 'close'\")\n",
    "\n",
    "print(f\"\\nPROBLEM #2: EXTREME SPARSITY\")\n",
    "sparsity = 1 - (X_train_vec.nnz / (X_train_vec.shape[0] * X_train_vec.shape[1]))\n",
    "print(f\"- Data sparsity: {sparsity:.4f} (99.6% of values are zero!)\")\n",
    "print(\"- Most emails share very few words\")\n",
    "print(\"- Distance becomes meaningless when everything is mostly zeros\")\n",
    "\n",
    "print(\"\\nPROBLEM #3: CLASS IMBALANCE + POOR DISTANCES\")\n",
    "print(f\"- Ham: {(Y_train == 0).sum()} samples ({(Y_train == 0).mean():.1%})\")\n",
    "print(f\"- Spam: {(Y_train == 1).sum()} samples ({(Y_train == 1).mean():.1%})\")\n",
    "print(\"- When distances are meaningless, KNN just picks majority class\")\n",
    "print(\"- That's why it gets ~83% accuracy (close to majority class %)\")\n",
    "\n",
    "print(\"\\nPROBLEM #4: DEMONSTRATION\")\n",
    "print(\"Let's look at what 'similarity' means in this space:\")\n",
    "\n",
    "# Get a few samples and show their similarity\n",
    "sample1 = X_train_vec[0].toarray().flatten()\n",
    "sample2 = X_train_vec[1].toarray().flatten()\n",
    "sample3 = X_train_vec[100].toarray().flatten()\n",
    "\n",
    "# Count non-zero features (words) in each\n",
    "nonzero1 = np.count_nonzero(sample1)\n",
    "nonzero2 = np.count_nonzero(sample2) \n",
    "nonzero3 = np.count_nonzero(sample3)\n",
    "\n",
    "print(f\"Email 1 has {nonzero1} non-zero features out of {len(sample1)}\")\n",
    "print(f\"Email 2 has {nonzero2} non-zero features out of {len(sample2)}\")\n",
    "print(f\"Email 3 has {nonzero3} non-zero features out of {len(sample3)}\")\n",
    "\n",
    "# Calculate overlap\n",
    "overlap_1_2 = np.sum((sample1 > 0) & (sample2 > 0))\n",
    "overlap_1_3 = np.sum((sample1 > 0) & (sample3 > 0))\n",
    "\n",
    "print(f\"Shared words between Email 1 & 2: {overlap_1_2}\")\n",
    "print(f\"Shared words between Email 1 & 3: {overlap_1_3}\")\n",
    "print(\"→ Very little word overlap = poor similarity measures!\")\n",
    "\n",
    "print(\"\\n=== WHY OTHER ALGORITHMS WORK BETTER ===\")\n",
    "print(\"✓ Random Forest: Handles high dimensions & feature interactions\")\n",
    "print(\"✓ Multinomial NB: Designed for text, handles sparsity well\")\n",
    "print(\"✓ Logistic Regression: Linear model good for sparse features\")\n",
    "print(\"✓ Gradient Boosting: Ensemble method, robust to noise\")\n",
    "print(\"✗ KNN: Relies on distance, breaks down in high dimensions\")\n",
    "\n",
    "print(f\"\\n=== FINAL VERDICT ===\")\n",
    "print(\"KNN is fundamentally unsuited for text classification because:\")\n",
    "print(\"1. Text data is high-dimensional (30k+ features)\")\n",
    "print(\"2. Text data is extremely sparse (99%+ zeros)\")\n",
    "print(\"3. Distance metrics become meaningless\")\n",
    "print(\"4. 'Nearest neighbors' become random in high dimensions\")\n",
    "print(f\"\\nResult: KNN = 31.7% vs Random Forest = 97.5%\")\n",
    "print(\"That's a 3x performance difference!\")"
   ]
  }
 ],
 "metadata": {
  "kernelspec": {
   "display_name": "Python 3",
   "language": "python",
   "name": "python3"
  },
  "language_info": {
   "codemirror_mode": {
    "name": "ipython",
    "version": 3
   },
   "file_extension": ".py",
   "mimetype": "text/x-python",
   "name": "python",
   "nbconvert_exporter": "python",
   "pygments_lexer": "ipython3",
   "version": "3.11.9"
  }
 },
 "nbformat": 4,
 "nbformat_minor": 5
}
