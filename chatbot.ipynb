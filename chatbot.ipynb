{
 "cells": [
  {
   "cell_type": "code",
   "execution_count": 1,
   "id": "63240b68",
   "metadata": {},
   "outputs": [
    {
     "name": "stdout",
     "output_type": "stream",
     "text": [
      "Requirement already satisfied: pip in c:\\users\\aarya\\appdata\\local\\packages\\pythonsoftwarefoundation.python.3.11_qbz5n2kfra8p0\\localcache\\local-packages\\python311\\site-packages (25.0.1)\n",
      "Collecting pip\n",
      "  Downloading pip-25.2-py3-none-any.whl.metadata (4.7 kB)\n",
      "Downloading pip-25.2-py3-none-any.whl (1.8 MB)\n",
      "   ---------------------------------------- 0.0/1.8 MB ? eta -:--:--\n",
      "   ----- ---------------------------------- 0.3/1.8 MB ? eta -:--:--\n",
      "   ----- ---------------------------------- 0.3/1.8 MB ? eta -:--:--\n",
      "   ----- ---------------------------------- 0.3/1.8 MB ? eta -:--:--\n",
      "   ----------- ---------------------------- 0.5/1.8 MB 540.5 kB/s eta 0:00:03\n",
      "   ----------------- ---------------------- 0.8/1.8 MB 671.3 kB/s eta 0:00:02\n",
      "   ----------------------- ---------------- 1.0/1.8 MB 739.8 kB/s eta 0:00:01\n",
      "   ----------------------- ---------------- 1.0/1.8 MB 739.8 kB/s eta 0:00:01\n",
      "   ----------------------------- ---------- 1.3/1.8 MB 771.0 kB/s eta 0:00:01\n",
      "   ----------------------------------- ---- 1.6/1.8 MB 783.9 kB/s eta 0:00:01\n",
      "   ----------------------------------- ---- 1.6/1.8 MB 783.9 kB/s eta 0:00:01\n",
      "   ---------------------------------------- 1.8/1.8 MB 711.8 kB/s eta 0:00:00\n",
      "Installing collected packages: pip\n",
      "  Attempting uninstall: pip\n",
      "    Found existing installation: pip 25.0.1\n",
      "    Uninstalling pip-25.0.1:\n",
      "      Successfully uninstalled pip-25.0.1\n",
      "Successfully installed pip-25.2\n",
      "Note: you may need to restart the kernel to use updated packages.\n"
     ]
    }
   ],
   "source": [
    "pip install --upgrade pip"
   ]
  },
  {
   "cell_type": "code",
   "execution_count": 2,
   "id": "2300378f",
   "metadata": {},
   "outputs": [
    {
     "name": "stdout",
     "output_type": "stream",
     "text": [
      "Collecting nltk\n",
      "  Downloading nltk-3.9.1-py3-none-any.whl.metadata (2.9 kB)\n",
      "Requirement already satisfied: click in c:\\users\\aarya\\appdata\\local\\packages\\pythonsoftwarefoundation.python.3.11_qbz5n2kfra8p0\\localcache\\local-packages\\python311\\site-packages (from nltk) (8.2.1)\n",
      "Requirement already satisfied: joblib in c:\\users\\aarya\\appdata\\local\\packages\\pythonsoftwarefoundation.python.3.11_qbz5n2kfra8p0\\localcache\\local-packages\\python311\\site-packages (from nltk) (1.4.2)\n",
      "Collecting regex>=2021.8.3 (from nltk)\n",
      "  Downloading regex-2025.7.34-cp311-cp311-win_amd64.whl.metadata (41 kB)\n",
      "Requirement already satisfied: tqdm in c:\\users\\aarya\\appdata\\local\\packages\\pythonsoftwarefoundation.python.3.11_qbz5n2kfra8p0\\localcache\\local-packages\\python311\\site-packages (from nltk) (4.67.1)\n",
      "Requirement already satisfied: colorama in c:\\users\\aarya\\appdata\\local\\packages\\pythonsoftwarefoundation.python.3.11_qbz5n2kfra8p0\\localcache\\local-packages\\python311\\site-packages (from click->nltk) (0.4.6)\n",
      "Downloading nltk-3.9.1-py3-none-any.whl (1.5 MB)\n",
      "   ---------------------------------------- 0.0/1.5 MB ? eta -:--:--\n",
      "   ---------------------------------------- 1.5/1.5 MB 11.3 MB/s  0:00:00\n",
      "Downloading regex-2025.7.34-cp311-cp311-win_amd64.whl (276 kB)\n",
      "Installing collected packages: regex, nltk\n",
      "\n",
      "   -------------------- ------------------- 1/2 [nltk]\n",
      "   -------------------- ------------------- 1/2 [nltk]\n",
      "   -------------------- ------------------- 1/2 [nltk]\n",
      "   -------------------- ------------------- 1/2 [nltk]\n",
      "   -------------------- ------------------- 1/2 [nltk]\n",
      "   -------------------- ------------------- 1/2 [nltk]\n",
      "   -------------------- ------------------- 1/2 [nltk]\n",
      "   -------------------- ------------------- 1/2 [nltk]\n",
      "   -------------------- ------------------- 1/2 [nltk]\n",
      "   -------------------- ------------------- 1/2 [nltk]\n",
      "   -------------------- ------------------- 1/2 [nltk]\n",
      "   -------------------- ------------------- 1/2 [nltk]\n",
      "   -------------------- ------------------- 1/2 [nltk]\n",
      "   ---------------------------------------- 2/2 [nltk]\n",
      "\n",
      "Successfully installed nltk-3.9.1 regex-2025.7.34\n",
      "Note: you may need to restart the kernel to use updated packages.\n"
     ]
    }
   ],
   "source": [
    "pip install nltk"
   ]
  },
  {
   "cell_type": "code",
   "execution_count": 5,
   "id": "f2a7cc65",
   "metadata": {},
   "outputs": [
    {
     "name": "stdout",
     "output_type": "stream",
     "text": [
      "Requirement already satisfied: requests in c:\\users\\aarya\\appdata\\local\\packages\\pythonsoftwarefoundation.python.3.11_qbz5n2kfra8p0\\localcache\\local-packages\\python311\\site-packages (2.32.3)\n",
      "Requirement already satisfied: charset-normalizer<4,>=2 in c:\\users\\aarya\\appdata\\local\\packages\\pythonsoftwarefoundation.python.3.11_qbz5n2kfra8p0\\localcache\\local-packages\\python311\\site-packages (from requests) (3.4.1)\n",
      "Requirement already satisfied: idna<4,>=2.5 in c:\\users\\aarya\\appdata\\local\\packages\\pythonsoftwarefoundation.python.3.11_qbz5n2kfra8p0\\localcache\\local-packages\\python311\\site-packages (from requests) (3.10)\n",
      "Requirement already satisfied: urllib3<3,>=1.21.1 in c:\\users\\aarya\\appdata\\local\\packages\\pythonsoftwarefoundation.python.3.11_qbz5n2kfra8p0\\localcache\\local-packages\\python311\\site-packages (from requests) (2.3.0)\n",
      "Requirement already satisfied: certifi>=2017.4.17 in c:\\users\\aarya\\appdata\\local\\packages\\pythonsoftwarefoundation.python.3.11_qbz5n2kfra8p0\\localcache\\local-packages\\python311\\site-packages (from requests) (2025.1.31)\n",
      "Note: you may need to restart the kernel to use updated packages.\n"
     ]
    }
   ],
   "source": [
    "pip install requests"
   ]
  },
  {
   "cell_type": "code",
   "execution_count": 1,
   "id": "bca9bb61",
   "metadata": {},
   "outputs": [
    {
     "name": "stderr",
     "output_type": "stream",
     "text": [
      "[nltk_data] Downloading package punkt to\n",
      "[nltk_data]     C:\\Users\\Aarya\\AppData\\Roaming\\nltk_data...\n",
      "[nltk_data]   Package punkt is already up-to-date!\n"
     ]
    },
    {
     "data": {
      "text/plain": [
       "True"
      ]
     },
     "execution_count": 1,
     "metadata": {},
     "output_type": "execute_result"
    }
   ],
   "source": [
    "import nltk \n",
    "nltk.download('punkt')"
   ]
  },
  {
   "cell_type": "code",
   "execution_count": 3,
   "id": "8c7bbdc9",
   "metadata": {},
   "outputs": [
    {
     "name": "stdout",
     "output_type": "stream",
     "text": [
      "Hi! I'm a simple chatbot. Type 'quit' to exit.\n",
      "Hey there!\n",
      "I am a chatbot created to help you.\n",
      "I'm doing great, thanks for asking!\n",
      "I'm doing well, and you?\n",
      "Great to hear! What can I do for you?\n",
      "Hello aarya, how can I help you today?\n",
      "Talk to you later! Goodbye.\n"
     ]
    }
   ],
   "source": [
    "import random\n",
    "import re\n",
    "from nltk.chat.util import Chat, reflections\n",
    "\n",
    "pairs = [\n",
    "    [\n",
    "        r\"my name is (.*)\",\n",
    "        [\"Hello %1, how can I help you today?\",]\n",
    "    ],\n",
    "    [\n",
    "        r\"hi|hello|hey\",\n",
    "        [\"Hello!\", \"Hey there!\",]\n",
    "    ],\n",
    "    [\n",
    "        r\"what is your name?\",\n",
    "        [\"I am a chatbot created to help you.\", \"You can call me Chatbot.\",]\n",
    "    ],\n",
    "    [\n",
    "        r\"how are you ?\",\n",
    "        [\"I'm doing great, thanks for asking!\", \"I'm doing well, and you?\",]\n",
    "    ],\n",
    "    [\n",
    "        r\"sorry (.*)\",\n",
    "        [\"No problem.\", \"Don't worry about it.\",]\n",
    "    ],\n",
    "    [\n",
    "        r\"i am fine\",\n",
    "        [\"Great to hear! What can I do for you?\",]\n",
    "    ],\n",
    "    [\n",
    "        r\"quit|bye|exit\",\n",
    "        [\"Goodbye! It was nice chatting with you.\", \"Talk to you later! Goodbye.\",]\n",
    "    ],\n",
    "    [\n",
    "        r\"(.*)\",\n",
    "        [\"I'm not sure how to respond to that. Can you rephrase?\", \"Please tell me more.\",]\n",
    "    ]\n",
    "]\n",
    "\n",
    "def chatbot():\n",
    "    print(\"Hi! I'm a simple chatbot. Type 'quit' to exit.\")\n",
    "    chat = Chat(pairs, reflections)\n",
    "    chat.converse()\n",
    "\n",
    "if __name__ == \"__main__\":\n",
    "    chatbot()"
   ]
  },
  {
   "cell_type": "code",
   "execution_count": null,
   "id": "ddc65222",
   "metadata": {},
   "outputs": [
    {
     "name": "stdout",
     "output_type": "stream",
     "text": [
      "Hi! I'm a simple chatbot. I can even tell you the weather!\n",
      "Try asking: 'What is the weather in London?'\n",
      "Type 'quit' to exit.\n",
      "DEBUG: Raw API response status code: 200\n",
      "DEBUG: Raw API response content: {\"coord\":{\"lon\":-0.1257,\"lat\":51.5085},\"weather\":[{\"id\":804,\"main\":\"Clouds\",\"description\":\"overcast clouds\",\"icon\":\"04d\"}],\"base\":\"stations\",\"main\":{\"temp\":20.81,\"feels_like\":20.17,\"temp_min\":20.81,\"temp_max\":20.81,\"pressure\":1018,\"humidity\":47,\"sea_level\":1018,\"grnd_level\":1014},\"visibility\":10000,\"wind\":{\"speed\":4.01,\"deg\":323,\"gust\":3.73},\"clouds\":{\"all\":100},\"dt\":1754138800,\"sys\":{\"country\":\"GB\",\"sunrise\":1754108748,\"sunset\":1754164056},\"timezone\":3600,\"id\":2643743,\"name\":\"London\",\"cod\":200}\n",
      "Chatbot: The current weather in London, GB is overcast clouds with a temperature of 20.81°C.\n",
      "DEBUG: Raw API response status code: 200\n",
      "DEBUG: Raw API response content: {\"coord\":{\"lon\":73.8553,\"lat\":18.5196},\"weather\":[{\"id\":804,\"main\":\"Clouds\",\"description\":\"overcast clouds\",\"icon\":\"04d\"}],\"base\":\"stations\",\"main\":{\"temp\":25.74,\"feels_like\":26.33,\"temp_min\":25.74,\"temp_max\":25.74,\"pressure\":1007,\"humidity\":75,\"sea_level\":1007,\"grnd_level\":935},\"visibility\":10000,\"wind\":{\"speed\":4.1,\"deg\":262,\"gust\":5.55},\"clouds\":{\"all\":100},\"dt\":1754139008,\"sys\":{\"country\":\"IN\",\"sunrise\":1754095346,\"sunset\":1754141949},\"timezone\":19800,\"id\":1259229,\"name\":\"Pune\",\"cod\":200}\n",
      "Chatbot: The current weather in Pune, IN is overcast clouds with a temperature of 25.74°C.\n",
      "DEBUG: Raw API response status code: 200\n",
      "DEBUG: Raw API response content: {\"coord\":{\"lon\":-3.7026,\"lat\":40.4165},\"weather\":[{\"id\":800,\"main\":\"Clear\",\"description\":\"clear sky\",\"icon\":\"01d\"}],\"base\":\"stations\",\"main\":{\"temp\":31.2,\"feels_like\":29.6,\"temp_min\":31.2,\"temp_max\":31.2,\"pressure\":1013,\"humidity\":26,\"sea_level\":1013,\"grnd_level\":940},\"visibility\":10000,\"wind\":{\"speed\":2.13,\"deg\":204,\"gust\":2.38},\"clouds\":{\"all\":0},\"dt\":1754138807,\"sys\":{\"country\":\"ES\",\"sunrise\":1754111587,\"sunset\":1754162935},\"timezone\":7200,\"id\":3117735,\"name\":\"Madrid\",\"cod\":200}\n",
      "Chatbot: The current weather in Madrid, ES is clear sky with a temperature of 31.2°C.\n",
      "DEBUG: Raw API response status code: 200\n",
      "DEBUG: Raw API response content: {\"coord\":{\"lon\":72.8479,\"lat\":19.0144},\"weather\":[{\"id\":804,\"main\":\"Clouds\",\"description\":\"overcast clouds\",\"icon\":\"04d\"}],\"base\":\"stations\",\"main\":{\"temp\":28.35,\"feels_like\":32.31,\"temp_min\":28.35,\"temp_max\":28.35,\"pressure\":1006,\"humidity\":76,\"sea_level\":1006,\"grnd_level\":1005},\"visibility\":10000,\"wind\":{\"speed\":4.32,\"deg\":246,\"gust\":5.29},\"clouds\":{\"all\":100},\"dt\":1754139145,\"sys\":{\"country\":\"IN\",\"sunrise\":1754095545,\"sunset\":1754142234},\"timezone\":19800,\"id\":1275339,\"name\":\"Mumbai\",\"cod\":200}\n",
      "Chatbot: The current weather in Mumbai, IN is overcast clouds with a temperature of 28.35°C.\n",
      "Chatbot: Goodbye! It was nice chatting with you.\n"
     ]
    }
   ],
   "source": [
    "import random\n",
    "import re\n",
    "import requests  \n",
    "from nltk.chat.util import Chat, reflections\n",
    "\n",
    "WEATHER_API_KEY = \"3d00912352feef43f80b9ab1d8bfbfa4\"\n",
    "WEATHER_API_URL = \"http://api.openweathermap.org/data/2.5/weather\"\n",
    "\n",
    "\n",
    "def get_weather(city_name):\n",
    "    params = {\n",
    "        \"q\": city_name,\n",
    "        \"appid\": WEATHER_API_KEY,\n",
    "        \"units\": \"metric\" \n",
    "    }\n",
    "    \n",
    "    try:\n",
    "        response = requests.get(WEATHER_API_URL, params=params)\n",
    "\n",
    "        print(f\"DEBUG: Raw API response status code: {response.status_code}\")\n",
    "        print(f\"DEBUG: Raw API response content: {response.text}\")\n",
    "        \n",
    "        response.raise_for_status()  \n",
    "        \n",
    "        data = response.json()\n",
    "        \n",
    "        if data.get(\"cod\") == \"404\":\n",
    "            return f\"Sorry, I couldn't find the weather for {city_name}. Please check the city name.\"\n",
    "        \n",
    "        city = data[\"name\"]\n",
    "        country = data[\"sys\"][\"country\"]\n",
    "        temp_c = data[\"main\"][\"temp\"]\n",
    "        condition = data[\"weather\"][0][\"description\"]\n",
    "        \n",
    "        return f\"The current weather in {city}, {country} is {condition} with a temperature of {temp_c}°C.\"\n",
    "        \n",
    "    except requests.exceptions.RequestException as e:\n",
    "        print(f\"Error fetching weather data: {e}\")\n",
    "        return \"I'm sorry, I am unable to fetch the weather information at this time. Please check the API key.\"\n",
    "\n",
    "\n",
    "def weather_response(user_input, chat):\n",
    "    match = re.search(r\"what is the weather in (.*)\\?*\", user_input, re.I)\n",
    "    if match:\n",
    "        city = match.group(1).strip()\n",
    "        return get_weather(city)\n",
    "    return \"I couldn't understand which city you're asking about.\"\n",
    "\n",
    "\n",
    "pairs = [\n",
    "    [\n",
    "        r\"my name is (.*)\",\n",
    "        [\"Hello %1, how can I help you today?\",]\n",
    "    ],\n",
    "    [\n",
    "        r\"hi|hello|hey\",\n",
    "        [\"Hello!\", \"Hey there!\",]\n",
    "    ],\n",
    "    [\n",
    "        r\"what is your name?\",\n",
    "        [\"I am a chatbot created to help you.\", \"You can call me Chatbot.\",]\n",
    "    ],\n",
    "    [\n",
    "        r\"how are you ?\",\n",
    "        [\"I'm doing great, thanks for asking!\", \"I'm doing well, and you?\",]\n",
    "    ],\n",
    "    [\n",
    "        r\"sorry (.*)\",\n",
    "        [\"No problem.\", \"Don't worry about it.\",]\n",
    "    ],\n",
    "    [\n",
    "        r\"i am fine\",\n",
    "        [\"Great to hear! What can I do for you?\",]\n",
    "    ],\n",
    "    [\n",
    "        r\"quit|bye|exit\",\n",
    "        [\"Goodbye! It was nice chatting with you.\", \"Talk to you later! Goodbye.\",]\n",
    "    ],\n",
    "    [\n",
    "        r\"what is the weather in (.*)\\?*\",\n",
    "        [\"\"] \n",
    "    ],\n",
    "    [\n",
    "        r\"(.*)\",\n",
    "        [\"I'm not sure how to respond to that. Can you rephrase?\", \"Please tell me more.\",]\n",
    "    ]\n",
    "]\n",
    "\n",
    "\n",
    "def chatbot():\n",
    "    print(\"Hi! I'm a simple chatbot. I can even tell you the weather!\")\n",
    "    print(\"Try asking: 'What is the weather in London?'\")\n",
    "    print(\"Type 'quit' to exit.\")\n",
    "    \n",
    "    chat = Chat(pairs, reflections)\n",
    "    \n",
    "    while True:\n",
    "        user_input = input(\"You: \")\n",
    "        \n",
    "        if user_input.lower() in (\"quit\", \"bye\", \"exit\"):\n",
    "            print(\"Chatbot:\", random.choice([\"Goodbye! It was nice chatting with you.\", \"Talk to you later! Goodbye.\"]))\n",
    "            break\n",
    "            \n",
    "        weather_match = re.search(r\"what is the weather in (.*)\\?*\", user_input, re.I)\n",
    "        if weather_match:\n",
    "            city = weather_match.group(1).strip()\n",
    "            response = get_weather(city)\n",
    "            print(\"Chatbot:\", response)\n",
    "        else:\n",
    "            response = chat.respond(user_input)\n",
    "            print(\"Chatbot:\", response)\n",
    "\n",
    "if __name__ == \"__main__\":\n",
    "    chatbot()\n",
    "\n"
   ]
  },
  {
   "cell_type": "code",
   "execution_count": null,
   "id": "5066e78f",
   "metadata": {},
   "outputs": [],
   "source": []
  }
 ],
 "metadata": {
  "kernelspec": {
   "display_name": "Python 3",
   "language": "python",
   "name": "python3"
  },
  "language_info": {
   "codemirror_mode": {
    "name": "ipython",
    "version": 3
   },
   "file_extension": ".py",
   "mimetype": "text/x-python",
   "name": "python",
   "nbconvert_exporter": "python",
   "pygments_lexer": "ipython3",
   "version": "3.11.9"
  }
 },
 "nbformat": 4,
 "nbformat_minor": 5
}
